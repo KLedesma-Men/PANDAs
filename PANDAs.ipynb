{
 "cells": [
  {
   "cell_type": "code",
   "execution_count": 12,
   "id": "6bd35c12-5ea6-4739-b465-65036f459355",
   "metadata": {},
   "outputs": [
    {
     "name": "stdout",
     "output_type": "stream",
     "text": [
      "Requirement already satisfied: pandas in /Library/Frameworks/Python.framework/Versions/3.12/lib/python3.12/site-packages (2.2.3)\n",
      "Requirement already satisfied: numpy>=1.26.0 in /Library/Frameworks/Python.framework/Versions/3.12/lib/python3.12/site-packages (from pandas) (2.1.2)\n",
      "Requirement already satisfied: python-dateutil>=2.8.2 in /Library/Frameworks/Python.framework/Versions/3.12/lib/python3.12/site-packages (from pandas) (2.9.0.post0)\n",
      "Requirement already satisfied: pytz>=2020.1 in /Library/Frameworks/Python.framework/Versions/3.12/lib/python3.12/site-packages (from pandas) (2024.2)\n",
      "Requirement already satisfied: tzdata>=2022.7 in /Library/Frameworks/Python.framework/Versions/3.12/lib/python3.12/site-packages (from pandas) (2024.2)\n",
      "Requirement already satisfied: six>=1.5 in /Library/Frameworks/Python.framework/Versions/3.12/lib/python3.12/site-packages (from python-dateutil>=2.8.2->pandas) (1.16.0)\n",
      "\n",
      "\u001b[1m[\u001b[0m\u001b[34;49mnotice\u001b[0m\u001b[1;39;49m]\u001b[0m\u001b[39;49m A new release of pip is available: \u001b[0m\u001b[31;49m24.2\u001b[0m\u001b[39;49m -> \u001b[0m\u001b[32;49m24.3.1\u001b[0m\n",
      "\u001b[1m[\u001b[0m\u001b[34;49mnotice\u001b[0m\u001b[1;39;49m]\u001b[0m\u001b[39;49m To update, run: \u001b[0m\u001b[32;49mpip install --upgrade pip\u001b[0m\n",
      "18.16590212458495\n"
     ]
    }
   ],
   "source": [
    "#1 computing the euclidean distance between points \n",
    "#series \n",
    "!pip install pandas\n",
    "import pandas as pd #in order for these series to run \n",
    "p = pd.Series([1, 2, 3, 4, 5, 6, 7, 8, 9, 10])\n",
    "q = pd.Series([10, 9, 8, 7, 6, 5, 4, 3, 2, 1])\n",
    "# math calculation for euclidean distance \n",
    "squared = (p-q) **2 #first step, squaring \n",
    "sum_of_squared = squared.sum() #second step, the sum of these squared differences\n",
    "eucliedean_distance = sum_of_squared ** 0.5 # step 3 square root of the sum\n",
    "print (eucliedean_distance)\n"
   ]
  },
  {
   "cell_type": "code",
   "execution_count": 17,
   "id": "ed68be82-befb-414e-bd0e-34a87534317c",
   "metadata": {},
   "outputs": [
    {
     "name": "stdout",
     "output_type": "stream",
     "text": [
      "    c   b   a   d   e\n",
      "0   2   1   0   3   4\n",
      "1   7   6   5   8   9\n",
      "2  12  11  10  13  14\n",
      "3  17  16  15  18  19\n"
     ]
    }
   ],
   "source": [
    "#2 change the order of the dataframe and interchange columns a and c\n",
    "#the data frame\n",
    "df = pd.DataFrame(np.arange(20).reshape(-1, 5), columns=list('abcde'))\n",
    "#interchanging the columns \n",
    "df = df[['c', 'b', 'a', 'd', 'e']]\n",
    "print (df)"
   ]
  },
  {
   "cell_type": "code",
   "execution_count": 42,
   "id": "ed42c40a-11d7-42a2-8d18-321cee95cffb",
   "metadata": {},
   "outputs": [
    {
     "name": "stdout",
     "output_type": "stream",
     "text": [
      "    a   b   c   d   e\n",
      "0   2   1   0   3   4\n",
      "1   7   6   5   8   9\n",
      "2  12  11  10  13  14\n",
      "3  17  16  15  18  19\n"
     ]
    }
   ],
   "source": [
    "#3 change the order of the columns of a dataframe, create a generic function to interchange two colums \n",
    "# the dataframe \n",
    "df = pd.DataFrame(np.arange(20).reshape(-1, 5), columns=list('abcde'))\n",
    "\n",
    "# function to interchange two columns in a data frame\n",
    "def interchange_columns(dataframe, col1, col2):\n",
    "    # firs check if the specified columns are in the DataFrame\n",
    "    if col1 in dataframe.columns and col2 in dataframe.columns:\n",
    "        # Swap the columns\n",
    "        dataframe[[col1, col2]] = dataframe[[col2, col1]]\n",
    "    else:\n",
    "        print(\"One or both columns not found in the DataFrame.\")\n",
    "\n",
    "# interchanging the colums a and c\n",
    "interchange_columns(df, 'a', 'c')\n",
    "\n",
    "# modified data frame\n",
    "print(df)\n"
   ]
  },
  {
   "cell_type": "code",
   "execution_count": 22,
   "id": "8a11460a-3e73-4e3b-a004-4d4dfdb5ef5d",
   "metadata": {},
   "outputs": [
    {
     "name": "stdout",
     "output_type": "stream",
     "text": [
      "   random\n",
      "0  0.1061\n",
      "1  0.0724\n",
      "2  0.0000\n",
      "3  0.0041\n"
     ]
    }
   ],
   "source": [
    "#4 supress scientific notiations like e03 in df and pring upto numbers after the decimal \n",
    "#the input \n",
    "df = pd.DataFrame(np.random.random(4)**10, columns=['random'])\n",
    "df\n",
    "#> random\n",
    "#> 0 3.474280e-03\n",
    "#> 1 3.951517e-05\n",
    "#> 2 7.469702e-02\n",
    "#> 3 5.541282e-28\n",
    "df['random'] = df['random'].apply(lambda x: f\"{x:.4f}\")\n",
    "print(df)"
   ]
  },
  {
   "cell_type": "code",
   "execution_count": 31,
   "id": "7779807b-a8de-4a8f-83c3-63691d2a7ffa",
   "metadata": {},
   "outputs": [
    {
     "name": "stdout",
     "output_type": "stream",
     "text": [
      "    p   q   r   s nearest_row       dist\n",
      "a  43  48  84  70           i  54.506880\n",
      "b  80  29  34  25           i  31.176915\n",
      "c  28  54   7  23           j  39.736633\n",
      "d  70  14   6   5           e  37.788887\n",
      "e  56   6  18  37           d  37.788887\n",
      "f  75  39  78   5           i  47.717921\n",
      "g  95  41   1  52           b  46.765372\n",
      "h  40  96  29  88           j  71.035203\n",
      "i  70  21  56  43           b  31.176915\n",
      "j  15  79  35  24           c  39.736633\n"
     ]
    }
   ],
   "source": [
    "#5 create a new column that contains the row number of nearest colum by euclean distance\n",
    "#the input \n",
    "df = pd.DataFrame(np.random.randint(1,100, 40).reshape(10, -1),\n",
    "columns=list('pqrs'), index=list('abcdefghij'))\n",
    "df\n",
    "# p q r s\n",
    "# a 57 77 13 62\n",
    "# b 68 5 92 24\n",
    "# c 74 40 18 37\n",
    "# d 80 17 39 60\n",
    "# e 93 48 85 33\n",
    "# f 69 55 8 11\n",
    "# g 39 23 88 53\n",
    "# h 63 28 25 61\n",
    "# i 18 4 73 7\n",
    "# j 79 12 45 3\n",
    "# lists to store the nearest row and distance\n",
    "nearest_rows = []\n",
    "min_distances = []\n",
    "\n",
    "# calculating the euclidean distance manually\n",
    "for i, row in df.iterrows():\n",
    "    # now calculating for all other rows\n",
    "    distances = np.sqrt(((df - row) ** 2).sum(axis=1))\n",
    "    \n",
    "    # Set distance to self\n",
    "    distances[i] = np.inf\n",
    "    \n",
    "    # Getting the index of the nearest row and the distance\n",
    "    nearest_idx = distances.idxmin()\n",
    "    nearest_rows.append(nearest_idx)\n",
    "    min_distances.append(distances[nearest_idx])\n",
    "\n",
    "# Adding the new columns to the DataFrame\n",
    "df['nearest_row'] = nearest_rows\n",
    "df['dist'] = min_distances\n",
    "df\n",
    "print(df)\n",
    "\n",
    "\n",
    "\n"
   ]
  },
  {
   "cell_type": "code",
   "execution_count": 38,
   "id": "617a46e0-bc5e-4d09-ae03-d936b9af0456",
   "metadata": {},
   "outputs": [
    {
     "name": "stdout",
     "output_type": "stream",
     "text": [
      "          A         B         C         D         E\n",
      "A  1.000000  0.756038  0.624390  0.493811  0.928600\n",
      "B  0.756038  1.000000  0.966733  0.363559  0.649558\n",
      "C  0.624390  0.966733  1.000000  0.218860  0.528068\n",
      "D  0.493811  0.363559  0.218860  1.000000  0.720177\n",
      "E  0.928600  0.649558  0.528068  0.720177  1.000000\n"
     ]
    }
   ],
   "source": [
    "#6 \n",
    "#input \n",
    "data = {'A': [45, 37, 0, 42, 50],\n",
    "'B': [38, 31, 1, 26, 90],\n",
    "'C': [10, 15, -10, 17, 100],\n",
    "'D': [60, 99, 15, 23, 56],\n",
    "'E': [76, 98, -0.03, 78, 90]\n",
    "}\n",
    "#creating the dataframe\n",
    "df = pd.DataFrame(data)\n",
    "#calculating the correlation of the matrix\n",
    "correlation_matrix = df.corr()\n",
    "print(correlation_matrix)"
   ]
  }
 ],
 "metadata": {
  "kernelspec": {
   "display_name": "Python 3 (ipykernel)",
   "language": "python",
   "name": "python3"
  },
  "language_info": {
   "codemirror_mode": {
    "name": "ipython",
    "version": 3
   },
   "file_extension": ".py",
   "mimetype": "text/x-python",
   "name": "python",
   "nbconvert_exporter": "python",
   "pygments_lexer": "ipython3",
   "version": "3.12.5"
  }
 },
 "nbformat": 4,
 "nbformat_minor": 5
}
